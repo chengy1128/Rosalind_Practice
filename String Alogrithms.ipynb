{
 "cells": [
  {
   "cell_type": "markdown",
   "metadata": {},
   "source": [
    "# Counting DNA Nucleotides\n",
    "## Problem\n",
    "A string is simply an ordered collection of symbols selected from some alphabet and formed into a word; the length of a string is the number of symbols that it contains.\n",
    "\n",
    "An example of a length 21 DNA string (whose alphabet contains the symbols 'A', 'C', 'G', and 'T') is \"ATGCTTCAGAAAGGTCTTACG.\"\n",
    "\n",
    "Given: A DNA string s of length at most 1000 nt.\n",
    "\n",
    "Return: Four integers (separated by spaces) counting the respective number of times that the symbols 'A', 'C', 'G', and 'T' occur in s.\n",
    "\n",
    "Sample Dataset\n",
    "AGCTTTTCATTCTGACTGCAACGGGCAATATGTCTCTGTGTGGATTAAAAAAAGAGTGTCTGATAGCAGC\n",
    "Sample Output<br>\n",
    "20 12 17 21"
   ]
  },
  {
   "cell_type": "code",
   "execution_count": 13,
   "metadata": {},
   "outputs": [],
   "source": [
    "def counting(s):\n",
    "    list_s=list(s)\n",
    "    A_=0\n",
    "    C_=0\n",
    "    G_=0\n",
    "    T_=0\n",
    "    for element in list_s:\n",
    "        if element == \"A\":\n",
    "            A_+=1\n",
    "        if element == \"C\":\n",
    "            C_+=1 \n",
    "        if element == \"G\":\n",
    "            G_+=1\n",
    "        if element == \"T\":\n",
    "            T_+=1\n",
    "    return A_,C_,G_,T_"
   ]
  },
  {
   "cell_type": "code",
   "execution_count": 15,
   "metadata": {},
   "outputs": [
    {
     "data": {
      "text/plain": [
       "(20, 12, 17, 21)"
      ]
     },
     "execution_count": 15,
     "metadata": {},
     "output_type": "execute_result"
    }
   ],
   "source": [
    "s='AGCTTTTCATTCTGACTGCAACGGGCAATATGTCTCTGTGTGGATTAAAAAAAGAGTGTCTGATAGCAGC'\n",
    "counting(s)"
   ]
  },
  {
   "cell_type": "markdown",
   "metadata": {},
   "source": [
    "## Problem\n",
    "An RNA string is a string formed from the alphabet containing 'A', 'C', 'G', and 'U'.\n",
    "\n",
    "Given a DNA string t corresponding to a coding strand, its transcribed RNA string u is formed by replacing all occurrences of 'T' in t with 'U' in u.\n",
    "\n",
    "Given: A DNA string t having length at most 1000 nt.\n",
    "\n",
    "Return: The transcribed RNA string of t."
   ]
  },
  {
   "cell_type": "markdown",
   "metadata": {},
   "source": [
    "Sample Dataset\n",
    "GATGGAACTTGACTACGTAAATT<br>\n",
    "Sample Output\n",
    "GAUGGAACUUGACUACGUAAAUU"
   ]
  },
  {
   "cell_type": "code",
   "execution_count": 62,
   "metadata": {},
   "outputs": [],
   "source": [
    "def RNA(S):\n",
    "    for element in S:\n",
    "        if element == \"T\":\n",
    "            S[S.index(element)]=\"U\"\n",
    "    result = \"\".join(S)\n",
    "    return result"
   ]
  },
  {
   "cell_type": "code",
   "execution_count": 63,
   "metadata": {},
   "outputs": [
    {
     "data": {
      "text/plain": [
       "'GGCCGUGCACUCCCGGUUCCCUACUCGCUUCAUGGCAUCUUACUAAGCACACCUGGGACCCGAGCUACUCCGCCUUCAUGAUGUCGGACAACGGGUGAUAUCUAGGAUUGGAGGUUUCGUGUUAUACAAAACGGCUUCCUGGGGAUUUCUUGACUACAGAGGUACCAUCGCUUGAUGACCGCUAGGCCCUACCCAUCGCUAGAGGUGACAUCAUGAUGGGAGUAUGAGUGACGCCUCAAGACGACACGGAUGGCAAGUGAAUCGUUAAAUGCGGUCCGAGCAUUUAAGAUUGUCUGAGCAAAUUGCGGAGGGAAUACUGUGGGUAGGCACAUCGUACCCAUAGGAAUUAGGGCGGAGACGCGAUUCUCGGAGGCGCACGGGCGGUAUGUAGCAUUUUCUAGCGGCGUCACACCCUAGAGUCUUAGUAGUUUAAACCUUUGGGCGUACGGUUCGUACUUCCACUGGAAGAGGUUCGAUGUGGAGAAUCCGAAGCACGCAGGGGUAAAGGCCGCUAGGCGUAGGUGCUCAUGUUUUAAGGGUGAUGGAGUGUUUAAAAGAUGAACUGACUGGUAGCGCAGUGUUUGCCAGACCCUGCAACUAGUUCCUGGGCACUAGAAGAAGUGAAUUUCACCAGCGGUACGGCAAGAGAAGGUUUCAAUGGAAACAAAUCGGGCUAUUACUAAGUAUCGGACCCUAGUGGAAACACUGCUCCCAGGUGGCUCUCGAGCGACUGAAGAACAAGGACCAGUUAGCUGGUAGUUUAUAAGCACGGAGAACGCAUGCACCAAAUCUUAUAAGUGAAAAAGCCUCAUGCCGGGUGUCAGGCCUUGAUUAUAUUAUCUCGUUCACUUGAGUUGAUACACCUGCUUGAUGGCACAAGUUUGAAUACUGCUUAUGCCGAUAUACUCUAGCGAGGGGUUUUCCUUCCGGUUCCUCGUGGGCCCUAAUGACAUCGCAAUCAC'"
      ]
     },
     "execution_count": 63,
     "metadata": {},
     "output_type": "execute_result"
    }
   ],
   "source": [
    "S=\"GGCCGTGCACTCCCGGTTCCCTACTCGCTTCATGGCATCTTACTAAGCACACCTGGGACCCGAGCTACTCCGCCTTCATGATGTCGGACAACGGGTGATATCTAGGATTGGAGGTTTCGTGTTATACAAAACGGCTTCCTGGGGATTTCTTGACTACAGAGGTACCATCGCTTGATGACCGCTAGGCCCTACCCATCGCTAGAGGTGACATCATGATGGGAGTATGAGTGACGCCTCAAGACGACACGGATGGCAAGTGAATCGTTAAATGCGGTCCGAGCATTTAAGATTGTCTGAGCAAATTGCGGAGGGAATACTGTGGGTAGGCACATCGTACCCATAGGAATTAGGGCGGAGACGCGATTCTCGGAGGCGCACGGGCGGTATGTAGCATTTTCTAGCGGCGTCACACCCTAGAGTCTTAGTAGTTTAAACCTTTGGGCGTACGGTTCGTACTTCCACTGGAAGAGGTTCGATGTGGAGAATCCGAAGCACGCAGGGGTAAAGGCCGCTAGGCGTAGGTGCTCATGTTTTAAGGGTGATGGAGTGTTTAAAAGATGAACTGACTGGTAGCGCAGTGTTTGCCAGACCCTGCAACTAGTTCCTGGGCACTAGAAGAAGTGAATTTCACCAGCGGTACGGCAAGAGAAGGTTTCAATGGAAACAAATCGGGCTATTACTAAGTATCGGACCCTAGTGGAAACACTGCTCCCAGGTGGCTCTCGAGCGACTGAAGAACAAGGACCAGTTAGCTGGTAGTTTATAAGCACGGAGAACGCATGCACCAAATCTTATAAGTGAAAAAGCCTCATGCCGGGTGTCAGGCCTTGATTATATTATCTCGTTCACTTGAGTTGATACACCTGCTTGATGGCACAAGTTTGAATACTGCTTATGCCGATATACTCTAGCGAGGGGTTTTCCTTCCGGTTCCTCGTGGGCCCTAATGACATCGCAATCAC\"\n",
    "list_S=list(S)\n",
    "RNA(list_S)"
   ]
  },
  {
   "cell_type": "markdown",
   "metadata": {},
   "source": [
    "## Problem\n",
    "In DNA strings, symbols 'A' and 'T' are complements of each other, as are 'C' and 'G'.\n",
    "\n",
    "The reverse complement of a DNA string s is the string sc formed by reversing the symbols of s, then taking the complement of each symbol (e.g., the reverse complement of \"GTCA\" is \"TGAC\").\n",
    "\n",
    "Given: A DNA string s of length at most 1000 bp.<br>\n",
    "\n",
    "Return: The reverse complement $s^{c}$ of s.\n",
    "\n"
   ]
  },
  {
   "cell_type": "code",
   "execution_count": 198,
   "metadata": {},
   "outputs": [],
   "source": [
    "S_string=list(\"AAAACCCGGT\")"
   ]
  },
  {
   "cell_type": "code",
   "execution_count": 199,
   "metadata": {},
   "outputs": [],
   "source": [
    "def reverse_complement(s):\n",
    "    complements = {'A':'T', 'C':'G', 'T':'A', 'G':'C'}\n",
    "     \n",
    "    sc = reversed(s)\n",
    "    sc = [complements[c] for c in sc]\n",
    "\n",
    "    return ''.join(sc)"
   ]
  },
  {
   "cell_type": "code",
   "execution_count": 200,
   "metadata": {},
   "outputs": [
    {
     "data": {
      "text/plain": [
       "'ACCGGGTTTT'"
      ]
     },
     "execution_count": 200,
     "metadata": {},
     "output_type": "execute_result"
    }
   ],
   "source": [
    "reverse_complement(S_string)"
   ]
  },
  {
   "cell_type": "code",
   "execution_count": 201,
   "metadata": {},
   "outputs": [],
   "source": [
    "string=list(\"CAGCGATGAATTCGCACGTAGGAACCGATATGCAACCCACCCGCGTCGTGTAACCCGAACATAGTGATCTTACGGACGGGAGCGATGCATACCGTCATTTAACTGAATTTCACCAGATAAGAGTATCTGCCGTTGATCGTTATGTTCTTAGGGCGAACGACCAGTTCACTTTGGTGATTGGCTTGATCCTCGGTTTAGCTTTGCATCAATCACTCCGCGCCGACTTTGCTTCTTTCATTAAGATTGGTTTTGAGTTAGGCATTCGAACTCAACACCCATAAACAGGCTAGGGGCTACGTATTGGAAGATCTGAACGCAAGCCGGGCAAGCGATCGACTCCATAGAGCGAGTTTGCGACAATCTATCATTCATCCTCGGAAACTAGATAGGTGGTGTGCGACCTTCACGCCCTCATGCTTTTATGCCCAATAAAGATCCGAAGATGTTATGGTCTCTCTGGTTTGAGCTCGCTCCTACTAGTGCGCATACTACGGGGTATTGTAGCACTAGCTGAACCTGCGCCACATTAGTACGGTATCGCATGCAGCTGTGTCCCTACTGGGTGCCCGTATATGGTAGGTACGGTGCGCTACGAGGCGCCGAATTATTCCTGGATTTCAGTAGCGGGTAAGCATACCGGCACTACGCAAACAGGTTGTAAACTGTGCAGCTATTCGTTGTATCGGTTGCAAAAAGGGGGATGGTTACGAACATACGTATCGACAATAATTCACGGCCCGGCGCGTGTAGCAATAGCTGCTTAATCGAGGTTGATCGACTATACTATAATACATCGGACCCGGTGCACTGCCACGGGAGCTGCTCCTTGCAACGCAACCTCTATAGCTCTGGCCTTGAGCCAATTGGAACGCTGTGTTAACTCCCCATTCTTAAGTAAACATCCTTAACCGACTAACGATCTGATTGATCAATGGAAGCTTGCTCATTCAAGCCGCATGCCAGCCCGCA\")"
   ]
  },
  {
   "cell_type": "code",
   "execution_count": 202,
   "metadata": {},
   "outputs": [
    {
     "data": {
      "text/plain": [
       "'TGCGGGCTGGCATGCGGCTTGAATGAGCAAGCTTCCATTGATCAATCAGATCGTTAGTCGGTTAAGGATGTTTACTTAAGAATGGGGAGTTAACACAGCGTTCCAATTGGCTCAAGGCCAGAGCTATAGAGGTTGCGTTGCAAGGAGCAGCTCCCGTGGCAGTGCACCGGGTCCGATGTATTATAGTATAGTCGATCAACCTCGATTAAGCAGCTATTGCTACACGCGCCGGGCCGTGAATTATTGTCGATACGTATGTTCGTAACCATCCCCCTTTTTGCAACCGATACAACGAATAGCTGCACAGTTTACAACCTGTTTGCGTAGTGCCGGTATGCTTACCCGCTACTGAAATCCAGGAATAATTCGGCGCCTCGTAGCGCACCGTACCTACCATATACGGGCACCCAGTAGGGACACAGCTGCATGCGATACCGTACTAATGTGGCGCAGGTTCAGCTAGTGCTACAATACCCCGTAGTATGCGCACTAGTAGGAGCGAGCTCAAACCAGAGAGACCATAACATCTTCGGATCTTTATTGGGCATAAAAGCATGAGGGCGTGAAGGTCGCACACCACCTATCTAGTTTCCGAGGATGAATGATAGATTGTCGCAAACTCGCTCTATGGAGTCGATCGCTTGCCCGGCTTGCGTTCAGATCTTCCAATACGTAGCCCCTAGCCTGTTTATGGGTGTTGAGTTCGAATGCCTAACTCAAAACCAATCTTAATGAAAGAAGCAAAGTCGGCGCGGAGTGATTGATGCAAAGCTAAACCGAGGATCAAGCCAATCACCAAAGTGAACTGGTCGTTCGCCCTAAGAACATAACGATCAACGGCAGATACTCTTATCTGGTGAAATTCAGTTAAATGACGGTATGCATCGCTCCCGTCCGTAAGATCACTATGTTCGGGTTACACGACGCGGGTGGGTTGCATATCGGTTCCTACGTGCGAATTCATCGCTG'"
      ]
     },
     "execution_count": 202,
     "metadata": {},
     "output_type": "execute_result"
    }
   ],
   "source": [
    "reverse_complement(string)"
   ]
  },
  {
   "cell_type": "markdown",
   "metadata": {},
   "source": [
    "## Problem\n",
    "A sequence is an ordered collection of objects (usually numbers), which are allowed to repeat. Sequences can be finite or infinite. Two examples are the finite sequence (π,−2‾√,0,π) and the infinite sequence of odd numbers (1,3,5,7,9,…). We use the notation an to represent the n-th term of a sequence.\n",
    "\n",
    "A recurrence relation is a way of defining the terms of a sequence with respect to the values of previous terms. In the case of Fibonacci's rabbits from the introduction, any given month will contain the rabbits that were alive the previous month, plus any new offspring. A key observation is that the number of offspring in any month is equal to the number of rabbits that were alive two months prior. As a result, if Fn represents the number of rabbit pairs alive after the n-th month, then we obtain the Fibonacci sequence having terms Fn that are defined by the recurrence relation Fn=Fn−1+Fn−2 (with F1=F2=1 to initiate the sequence). Although the sequence bears Fibonacci's name, it was known to Indian mathematicians over two millennia ago.\n",
    "\n",
    "When finding the n-th term of a sequence defined by a recurrence relation, we can simply use the recurrence relation to generate terms for progressively larger values of n. This problem introduces us to the computational technique of dynamic programming, which successively builds up solutions by using the answers to smaller cases.\n",
    "\n",
    "Given: Positive integers n≤40 and k≤5.\n",
    "\n",
    "Return: The total number of rabbit pairs that will be present after n months, if we begin with 1 pair and in each generation, every pair of reproduction-age rabbits produces a litter of k rabbit pairs (instead of only 1 pair).\n",
    "\n",
    "Sample Dataset\n",
    "5 3<br>\n",
    "Sample Output\n",
    "19"
   ]
  },
  {
   "cell_type": "code",
   "execution_count": null,
   "metadata": {},
   "outputs": [],
   "source": []
  }
 ],
 "metadata": {
  "kernelspec": {
   "display_name": "Python 3",
   "language": "python",
   "name": "python3"
  },
  "language_info": {
   "codemirror_mode": {
    "name": "ipython",
    "version": 3
   },
   "file_extension": ".py",
   "mimetype": "text/x-python",
   "name": "python",
   "nbconvert_exporter": "python",
   "pygments_lexer": "ipython3",
   "version": "3.7.3"
  }
 },
 "nbformat": 4,
 "nbformat_minor": 2
}
